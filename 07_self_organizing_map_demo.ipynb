{
 "cells": [
  {
   "cell_type": "code",
   "execution_count": null,
   "metadata": {
    "collapsed": false
   },
   "outputs": [],
   "source": [
    "import numpy as np\n",
    "import math\n",
    "from PIL import Image\n",
    "\n",
    "\n",
    "class SOM:\n",
    "    def __init__(self, x_size, y_size, trait_num, t_iter, t_step):\n",
    "        self.weights = np.random.randint(256, size=(x_size, y_size, trait_num)).astype('float64')\n",
    "        self.t_iter = t_iter\n",
    "        self.map_radius = max(self.weights.shape)/2\n",
    "        self.t_const = self.t_iter/math.log(self.map_radius)\n",
    "        self.t_step = t_step\n",
    "\n",
    "    def show(self):\n",
    "        im = Image.fromarray(self.weights.astype('uint8'), mode='RGB')\n",
    "        im.format = 'JPG'\n",
    "        im.show()\n",
    "\n",
    "    def distance_matrix(self, vector):\n",
    "        return np.sum((self.weights - vector) ** 2, 2)\n",
    "\n",
    "    def bmu(self, vector):\n",
    "        distance = self.distance_matrix(vector)\n",
    "        return np.unravel_index(distance.argmin(), distance.shape)\n",
    "\n",
    "    def bmu_distance(self, vector):\n",
    "        x, y, rgb = self.weights.shape\n",
    "        xi = np.arange(x).reshape(x, 1).repeat(y, 1)\n",
    "        yi = np.arange(y).reshape(1, y).repeat(x, 0)\n",
    "        return np.sum((np.dstack((xi, yi)) - np.array(self.bmu(vector))) ** 2, 2)\n",
    "\n",
    "    def hood_radius(self, iteration):\n",
    "        return self.map_radius * math.exp(-iteration/self.t_const)\n",
    "\n",
    "    def teach_row(self, vector, i, dis_cut, dist):\n",
    "        hood_radius_2 = self.hood_radius(i) ** 2\n",
    "        bmu_distance = self.bmu_distance(vector).astype('float64')\n",
    "        if dist is None:\n",
    "            temp = hood_radius_2 - bmu_distance\n",
    "        else:\n",
    "            temp = dist ** 2 - bmu_distance\n",
    "        influence = np.exp(-bmu_distance / (2 * hood_radius_2))\n",
    "        if dis_cut:\n",
    "            influence *= ((np.sign(temp) + 1) / 2)\n",
    "        return np.expand_dims(influence, 2) * (vector - self.weights)\n",
    "\n",
    "    def teach(self, t_set, distance_cutoff=False, distance=None):\n",
    "        for i in range(self.t_iter):\n",
    "            for x in t_set:\n",
    "                self.weights += self.teach_row(x, i, distance_cutoff, distance)\n",
    "        self.show()\n",
    "\n",
    "s = SOM(200, 200, 3, 100, 0.1)\n",
    "# t_set = np.array([[200, 0, 0], [0, 200, 0], [0, 0, 200], [120, 0, 100]])\n",
    "t_set = np.random.randint(256, size=(15, 3))\n",
    "s.teach(t_set)"
   ]
  },
  {
   "cell_type": "code",
   "execution_count": null,
   "metadata": {
    "collapsed": true
   },
   "outputs": [],
   "source": []
  }
 ],
 "metadata": {
  "kernelspec": {
   "display_name": "Python 2",
   "language": "python",
   "name": "python2"
  },
  "language_info": {
   "codemirror_mode": {
    "name": "ipython",
    "version": 2
   },
   "file_extension": ".py",
   "mimetype": "text/x-python",
   "name": "python",
   "nbconvert_exporter": "python",
   "pygments_lexer": "ipython2",
   "version": "2.7.12"
  }
 },
 "nbformat": 4,
 "nbformat_minor": 2
}
